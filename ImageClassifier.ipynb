{
  "nbformat": 4,
  "nbformat_minor": 0,
  "metadata": {
    "colab": {
      "provenance": [],
      "authorship_tag": "ABX9TyP2FUa88f8gXK0db58OWGHD",
      "include_colab_link": true
    },
    "kernelspec": {
      "name": "python3",
      "display_name": "Python 3"
    },
    "language_info": {
      "name": "python"
    }
  },
  "cells": [
    {
      "cell_type": "markdown",
      "metadata": {
        "id": "view-in-github",
        "colab_type": "text"
      },
      "source": [
        "<a href=\"https://colab.research.google.com/github/rafid-dev/MNISTImageClassifier/blob/main/ImageClassifier.ipynb\" target=\"_parent\"><img src=\"https://colab.research.google.com/assets/colab-badge.svg\" alt=\"Open In Colab\"/></a>"
      ]
    },
    {
      "cell_type": "code",
      "execution_count": 2,
      "metadata": {
        "id": "ypMPC6rk3F8R"
      },
      "outputs": [],
      "source": [
        "import torch\n",
        "import torchvision.datasets as datasets\n",
        "import torchvision.transforms as transforms\n",
        "from torch.utils.data import DataLoader\n",
        "from torch import nn, save, load"
      ]
    },
    {
      "cell_type": "code",
      "source": [
        "NUM_EPOCHS = 10\n",
        "DEVICE = torch.device(\"cuda:0\" if torch.cuda.is_available() else \"cpu\")"
      ],
      "metadata": {
        "id": "pUqKQ7R67MJ9"
      },
      "execution_count": 3,
      "outputs": []
    },
    {
      "cell_type": "code",
      "source": [
        "# Get MNIST Dataset\n",
        "train = datasets.MNIST(root=\"data\", download=True, train=True, transform=transforms.ToTensor(), )\n",
        "dataset = DataLoader(train, 32)"
      ],
      "metadata": {
        "id": "fkvoW9u74ZEL"
      },
      "execution_count": 13,
      "outputs": []
    },
    {
      "cell_type": "code",
      "source": [
        "# Image Classifier Neural Network\n",
        "class ImageClassifier(nn.Module):\n",
        "  def __init__(self):\n",
        "    super().__init__()\n",
        "    self.model = nn.Sequential(\n",
        "        nn.Conv2d(1, 32, (3, 3)),\n",
        "        nn.ReLU(),\n",
        "        nn.Conv2d(32, 64, (3, 3)),\n",
        "        nn.ReLU(),\n",
        "        nn.Conv2d(64, 64, (3, 3)),\n",
        "        nn.ReLU(),\n",
        "        nn.Flatten(),\n",
        "        nn.Linear(64*(28-6)*(28-6), 10)\n",
        "    )\n",
        "\n",
        "  def forward(self, x):\n",
        "    return self.model(x)"
      ],
      "metadata": {
        "id": "Np-FsKca5Ud2"
      },
      "execution_count": 7,
      "outputs": []
    },
    {
      "cell_type": "code",
      "source": [
        "# Net object\n",
        "net = ImageClassifier().to(DEVICE)\n",
        "\n",
        "# Optimizer object\n",
        "optimizer = torch.optim.Adam(net.parameters(), lr=1e-3)\n",
        "loss_function = nn.CrossEntropyLoss()"
      ],
      "metadata": {
        "id": "VxupNGUE62qs"
      },
      "execution_count": 8,
      "outputs": []
    },
    {
      "cell_type": "code",
      "source": [
        "# Training\n",
        "\n",
        "for epoch in range(NUM_EPOCHS):\n",
        "  for batch in dataset:\n",
        "    x, y = batch\n",
        "    x, y = x.to(DEVICE), y.to(DEVICE)\n",
        "\n",
        "    # Forward\n",
        "    yhat = net(x)\n",
        "    loss = loss_function(yhat, y)\n",
        "\n",
        "    # Backward\n",
        "    optimizer.zero_grad()\n",
        "    loss.backward()\n",
        "    optimizer.step()\n",
        "  print(f\"Epoch: {epoch} Loss: {loss.item()}\")\n",
        "\n",
        "  with open('model_state.pt', 'wb') as f:\n",
        "    save(net.state_dict(), f)"
      ],
      "metadata": {
        "colab": {
          "base_uri": "https://localhost:8080/"
        },
        "id": "843LSCID673n",
        "outputId": "4e47121f-099e-4470-b069-ee9dfc4de713"
      },
      "execution_count": 15,
      "outputs": [
        {
          "output_type": "stream",
          "name": "stdout",
          "text": [
            "Epoch: 0 Loss: 0.009057772345840931\n",
            "Epoch: 1 Loss: 0.003623046213760972\n",
            "Epoch: 2 Loss: 0.0006001919973641634\n",
            "Epoch: 3 Loss: 0.006246666423976421\n",
            "Epoch: 4 Loss: 8.906950824894011e-05\n",
            "Epoch: 5 Loss: 0.017229881137609482\n",
            "Epoch: 6 Loss: 7.541037484770641e-05\n",
            "Epoch: 7 Loss: 1.3746202967013232e-06\n",
            "Epoch: 8 Loss: 1.1511040156619856e-06\n",
            "Epoch: 9 Loss: 3.42724916890802e-07\n"
          ]
        }
      ]
    },
    {
      "cell_type": "code",
      "source": [
        "from PIL import Image\n",
        "\n",
        "with open('model_state.pt', 'rb') as f:\n",
        "    net.load_state_dict(load(f))\n",
        "\n",
        "img = Image.open('img_1.jpg')\n",
        "img_tensor = transforms.ToTensor()(img).unsqueeze(0).to(DEVICE)\n",
        "print(torch.argmax(net(img_tensor)))"
      ],
      "metadata": {
        "colab": {
          "base_uri": "https://localhost:8080/"
        },
        "id": "OGBo4vRY7H1P",
        "outputId": "fd45e637-ba22-4299-9135-e8f03965ffd9"
      },
      "execution_count": 18,
      "outputs": [
        {
          "output_type": "stream",
          "name": "stdout",
          "text": [
            "tensor(2)\n"
          ]
        }
      ]
    }
  ]
}